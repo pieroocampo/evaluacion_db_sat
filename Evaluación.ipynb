{
 "cells": [
  {
   "cell_type": "markdown",
   "metadata": {
    "application/vnd.databricks.v1+cell": {
     "cellMetadata": {},
     "inputWidgets": {},
     "nuid": "98235a06-a698-4005-8450-9a15ca917d55",
     "showTitle": false,
     "tableResultSettingsMap": {},
     "title": ""
    }
   },
   "source": [
    "# Evaluación Práctica Databricks/Spark\n",
    "\n",
    "Este notebook contiene ejercicios para evaluar conocimientos básicos de Databricks usando tablas Delta.\n",
    "\n",
    "Sigue las instrucciones en cada sección y resuelve con **PySpark** o **SQL**.\n",
    "\n",
    "Tiempo estimado: 90 minutos."
   ]
  },
  {
   "cell_type": "code",
   "execution_count": 0,
   "metadata": {
    "application/vnd.databricks.v1+cell": {
     "cellMetadata": {},
     "inputWidgets": {},
     "nuid": "c1249feb-9431-480f-a561-9e55b2e845e4",
     "showTitle": false,
     "tableResultSettingsMap": {},
     "title": ""
    }
   },
   "outputs": [],
   "source": [
    "# Configuración inicial: crear y usar base de datos\n",
    "spark.sql(\"\"\"\n",
    "CREATE DATABASE IF NOT EXISTS examen_db;\n",
    "\"\"\")\n",
    "\n",
    "spark.sql(\"\"\"\n",
    "USE examen_db;\n",
    "\"\"\")"
   ]
  },
  {
   "cell_type": "markdown",
   "metadata": {
    "application/vnd.databricks.v1+cell": {
     "cellMetadata": {},
     "inputWidgets": {},
     "nuid": "6deef683-4fc0-463e-a32f-35177dce63cf",
     "showTitle": false,
     "tableResultSettingsMap": {},
     "title": ""
    }
   },
   "source": [
    "## Parte 1: Ingesta de datos (capa bronce)\n",
    "\n",
    "1. Lee los datasets `sales_orders` y `customers` (JSON y CSV, respectivamente) y muestra su esquema. Estos datos se encuentran en \"/databricks-datasets/retail-org\", en carpetas separadas. Tip: usa dbutils.fs.ls\n",
    "\n",
    "2. Elimina filas donde city sea nulo de `customers`\n",
    "\n",
    "3. Guarda las tablas como 'orders_bronze' y 'customer_bronze' en Delta Lake. Tip: Como estamos guardando en base de datos, considera qué método para guardar la tabla hay que utilizar. https://spark.apache.org/docs/latest/sql-data-sources-load-save-functions.html\n"
   ]
  },
  {
   "cell_type": "code",
   "execution_count": 0,
   "metadata": {
    "application/vnd.databricks.v1+cell": {
     "cellMetadata": {},
     "inputWidgets": {},
     "nuid": "46a3bd39-05c4-461f-9ff9-37b08c1957f0",
     "showTitle": false,
     "tableResultSettingsMap": {},
     "title": ""
    }
   },
   "outputs": [],
   "source": [
    "# Ejercicio 1\n",
    "df_orders = \n",
    "df_customers = \n",
    "\n",
    "# Muestra esquemas .printSchema(). Si todo es string, revisa la opción inferSchema\n",
    "\n"
   ]
  },
  {
   "cell_type": "code",
   "execution_count": 0,
   "metadata": {
    "application/vnd.databricks.v1+cell": {
     "cellMetadata": {},
     "inputWidgets": {},
     "nuid": "0b2fb324-6fc8-474b-88d3-818315b362dd",
     "showTitle": false,
     "tableResultSettingsMap": {},
     "title": ""
    }
   },
   "outputs": [],
   "source": [
    "# Ejercicio 2\n",
    "df_clean = df_orders.\n"
   ]
  },
  {
   "cell_type": "code",
   "execution_count": 0,
   "metadata": {
    "application/vnd.databricks.v1+cell": {
     "cellMetadata": {},
     "inputWidgets": {},
     "nuid": "de2da910-e59f-48f6-9488-6f5fa0dffef4",
     "showTitle": false,
     "tableResultSettingsMap": {},
     "title": ""
    }
   },
   "outputs": [],
   "source": [
    "# Ejercicio 3\n",
    "df_orders.write."
   ]
  },
  {
   "cell_type": "markdown",
   "metadata": {
    "application/vnd.databricks.v1+cell": {
     "cellMetadata": {},
     "inputWidgets": {},
     "nuid": "fa63cb02-b47c-4124-8a67-4d2b61e452df",
     "showTitle": false,
     "tableResultSettingsMap": {},
     "title": ""
    }
   },
   "source": [
    "## Parte 2: Transformaciones (capa plata)\n",
    "\n",
    "1. Elimina los clientes donde city sea nulo\n",
    "2. Cambia el UNIX Timestamp a fecha para crear `order_date` \n",
    "3. Une orders con customers por customer_id\n",
    "4. Guarda ese resultado como tabla Delta customer_orders_silver\n",
    "\n",
    "https://spark.apache.org/docs/latest/api/python/reference/pyspark.sql/api/pyspark.sql.DataFrame.dropna.html\n",
    "\n",
    "https://spark.apache.org/docs/latest/api/python/reference/pyspark.sql/api/pyspark.sql.DataFrame.join.html\n",
    "\n",
    "https://sparkbyexamples.com/pyspark/pyspark-sql-working-with-unix-time-timestamp/"
   ]
  },
  {
   "cell_type": "code",
   "execution_count": 0,
   "metadata": {
    "application/vnd.databricks.v1+cell": {
     "cellMetadata": {},
     "inputWidgets": {},
     "nuid": "33db85a7-be1f-4d3c-9de5-e029a75f657a",
     "showTitle": false,
     "tableResultSettingsMap": {},
     "title": ""
    }
   },
   "outputs": [],
   "source": [
    "# Ejercicio 1\n",
    "df_clean = "
   ]
  },
  {
   "cell_type": "code",
   "execution_count": 0,
   "metadata": {
    "application/vnd.databricks.v1+cell": {
     "cellMetadata": {},
     "inputWidgets": {},
     "nuid": "30801e7c-c4d0-4a64-97ee-27eed838c82a",
     "showTitle": false,
     "tableResultSettingsMap": {},
     "title": ""
    }
   },
   "outputs": [],
   "source": [
    "# Ejercicio 2\n",
    "df_join = df_clean"
   ]
  },
  {
   "cell_type": "code",
   "execution_count": 0,
   "metadata": {
    "application/vnd.databricks.v1+cell": {
     "cellMetadata": {},
     "inputWidgets": {},
     "nuid": "09607c8a-9180-4400-95b6-b32e81e44f02",
     "showTitle": false,
     "tableResultSettingsMap": {},
     "title": ""
    }
   },
   "outputs": [],
   "source": [
    "# Ejercicio 3\n",
    "df_filter = df_join"
   ]
  },
  {
   "cell_type": "code",
   "execution_count": 0,
   "metadata": {
    "application/vnd.databricks.v1+cell": {
     "cellMetadata": {},
     "inputWidgets": {},
     "nuid": "6f6ef02f-5ca5-4102-98fd-b136796627e8",
     "showTitle": false,
     "tableResultSettingsMap": {},
     "title": ""
    }
   },
   "outputs": [],
   "source": [
    "# Ejercicio 4\n",
    "df_filter.write"
   ]
  },
  {
   "cell_type": "markdown",
   "metadata": {
    "application/vnd.databricks.v1+cell": {
     "cellMetadata": {},
     "inputWidgets": {},
     "nuid": "7474c1f4-ed51-4465-9f05-738ddc3ae363",
     "showTitle": false,
     "tableResultSettingsMap": {},
     "title": ""
    }
   },
   "source": [
    "## Parte 3: Agregaciones (capa oro)\n",
    "\n",
    "1. Agrega por cliente: `total_orders`, `avg_number_of_line_items` (promedio de artículos por orden) y guarda como `customer_summary_gold`\n",
    "\n",
    "No olvides importar las funciones necesarias:\n",
    "\n",
    "https://sparkbyexamples.com/pyspark/pyspark-sql-functions/\n",
    "\n",
    "https://sparkbyexamples.com/pyspark/pyspark-groupby-agg-aggregate-explained/\n"
   ]
  },
  {
   "cell_type": "code",
   "execution_count": 0,
   "metadata": {
    "application/vnd.databricks.v1+cell": {
     "cellMetadata": {},
     "inputWidgets": {},
     "nuid": "bfa2e321-6b7a-4a4e-9a92-d77711aa00ef",
     "showTitle": false,
     "tableResultSettingsMap": {},
     "title": ""
    }
   },
   "outputs": [],
   "source": [
    "# Parte 3 - Ejercicio 1\n",
    "df_gold = spark.table(\"examen_spark.customer_orders_silver\") \\\n",
    "  "
   ]
  },
  {
   "cell_type": "code",
   "execution_count": 0,
   "metadata": {
    "application/vnd.databricks.v1+cell": {
     "cellMetadata": {},
     "inputWidgets": {},
     "nuid": "7fbdb893-4a2d-4950-bffd-5cf5b307b4e0",
     "showTitle": false,
     "tableResultSettingsMap": {},
     "title": ""
    }
   },
   "outputs": [],
   "source": [
    "# Parte 3 - Guarda tabla\n",
    "df_summary.write"
   ]
  },
  {
   "cell_type": "markdown",
   "metadata": {
    "application/vnd.databricks.v1+cell": {
     "cellMetadata": {},
     "inputWidgets": {},
     "nuid": "312442b0-fe61-485d-bd4a-bfbc20eb783b",
     "showTitle": false,
     "tableResultSettingsMap": {},
     "title": ""
    }
   },
   "source": [
    "## Parte 4: Dashboard\n",
    "\n",
    "Crea un dashboard con un título, al menos un filtro, y al menos dos visualizaciones. Utiliza la tabla plata como el dataset."
   ]
  }
 ],
 "metadata": {
  "application/vnd.databricks.v1+notebook": {
   "computePreferences": null,
   "dashboards": [],
   "environmentMetadata": null,
   "inputWidgetPreferences": null,
   "language": "python",
   "notebookMetadata": {
    "pythonIndentUnit": 4
   },
   "notebookName": "Evaluación",
   "widgets": {}
  },
  "kernelspec": {
   "display_name": "Python 3",
   "language": "python",
   "name": "python3"
  },
  "language_info": {
   "name": "python"
  },
  "orig_nbformat": 4
 },
 "nbformat": 4,
 "nbformat_minor": 0
}
